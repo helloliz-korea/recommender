{
 "cells": [
  {
   "cell_type": "code",
   "execution_count": 1,
   "metadata": {},
   "outputs": [
    {
     "name": "stdout",
     "output_type": "stream",
     "text": [
      "1. Edge Index = \n",
      " tensor([[0, 1],\n",
      "        [2, 0],\n",
      "        [2, 1],\n",
      "        [1, 2]])\n",
      "2. Edge weight = tensor([1, 1, 1, 1], dtype=torch.int32)\n",
      "3. Test Edges = \n",
      " tensor([[0, 1],\n",
      "        [1, 2]])\n",
      "4. Adjacency Matrix = \n",
      " [[0 1 0]\n",
      " [0 0 1]\n",
      " [1 1 0]]\n",
      "5. Negative Test Edges =\n",
      " tensor([[0, 2],\n",
      "        [1, 0]])\n"
     ]
    },
    {
     "data": {
      "image/png": "[encoded data removed]",
      "text/plain": [
       "<Figure size 640x480 with 1 Axes>"
      ]
     },
     "metadata": {},
     "output_type": "display_data"
    }
   ],
   "source": [
    "\"\"\"\n",
    "testing the simple heuristics Personalized PageRank (PPR), Adamic Adar (AA) and Common Neighbours (CN)\n",
    "\n",
    "This is the directed test graph\n",
    "   -> 0 -> 1 <-\n",
    "   |          |\n",
    "    --- 2 <---\n",
    "\"\"\"\n",
    "import unittest\n",
    "import math\n",
    "import torch\n",
    "from torch import tensor\n",
    "import scipy.sparse as ssp\n",
    "import numpy as np\n",
    "\n",
    "edge_index = tensor([[0, 2, 2, 1], [1, 0, 1, 2]]).t()\n",
    "edge_weight = torch.ones(edge_index.size(0), dtype=torch.int)\n",
    "test_edges = tensor([[0, 1], [1, 2]]).t()\n",
    "num_nodes = 3\n",
    "A = ssp.csr_matrix((edge_weight, (edge_index[:, 0], edge_index[:, 1])),\n",
    "                        shape=(num_nodes, num_nodes))#, dtype=np.float)\n",
    "neg_test_edges = tensor([[0, 1], [2, 0]]).t()\n",
    "print('1. Edge Index = \\n %s' % edge_index, '2. Edge weight = %s' % edge_weight, sep='\\n')\n",
    "print('3. Test Edges = \\n %s' % test_edges, '4. Adjacency Matrix = \\n %s' % A.toarray(), sep='\\n')\n",
    "print('5. Negative Test Edges =\\n %s' % neg_test_edges)\n",
    "\n",
    "import networkx as nx\n",
    "G = nx.DiGraph()\n",
    "G.add_edges_from(edge_index.numpy())\n",
    "nx.draw(G, with_labels=True, node_color='white')"
   ]
  },
  {
   "cell_type": "code",
   "execution_count": 2,
   "metadata": {},
   "outputs": [],
   "source": [
    "\"\"\"\n",
    "A selection of heuristic methods (Personalized PageRank, Adamic Adar and Common Neighbours) for link prediction\n",
    "\"\"\"\n",
    "import numpy as np\n",
    "from tqdm import tqdm\n",
    "import torch\n",
    "from torch_geometric.loader import DataLoader"
   ]
  },
  {
   "cell_type": "code",
   "execution_count": 3,
   "metadata": {},
   "outputs": [],
   "source": [
    "def CN(A, edge_index, batch_size=100000):\n",
    "    \"\"\"\n",
    "    Common neighbours\n",
    "    :param A: scipy sparse adjacency matrix\n",
    "    :param edge_index: pyg edge_index\n",
    "    :param batch_size: int\n",
    "    :return: FloatTensor [edges] of scores, pyg edge_index\n",
    "    \"\"\"\n",
    "    link_loader = DataLoader(range(edge_index.size(0)), batch_size)\n",
    "    scores = []\n",
    "    for ind in tqdm(link_loader):\n",
    "        src, dst = edge_index[ind, 0], edge_index[ind, 1]\n",
    "        cur_scores = np.array(np.sum(A[src].multiply(A[dst]), 1)).flatten()\n",
    "        scores.append(cur_scores)\n",
    "    scores = np.concatenate(scores, 0)\n",
    "    print(f'evaluated Common Neighbours for {len(scores)} edges')\n",
    "    return torch.FloatTensor(scores), edge_index"
   ]
  },
  {
   "attachments": {},
   "cell_type": "markdown",
   "metadata": {},
   "source": [
    "- `nx.adamic_adar_index(G, ebunch=None)` : https://networkx.org/documentation/stable/reference/algorithms/generated/networkx.algorithms.link_prediction.adamic_adar_index.html#networkx.algorithms.link_prediction.adamic_adar_index"
   ]
  },
  {
   "cell_type": "code",
   "execution_count": 7,
   "metadata": {},
   "outputs": [
    {
     "name": "stdout",
     "output_type": "stream",
     "text": [
      "(0, 1) -> 1.82047845\n",
      "(1, 2) -> 1.82047845\n"
     ]
    }
   ],
   "source": [
    "## For undirected graph\n",
    "und_G = nx.complete_graph(4)\n",
    "preds = nx.adamic_adar_index(und_G, [(0,1), (1,2)])\n",
    "for u, v, p in preds:\n",
    "    print(f\"({u}, {v}) -> {p:.8f}\")"
   ]
  },
  {
   "cell_type": "code",
   "execution_count": 4,
   "metadata": {},
   "outputs": [
    {
     "name": "stdout",
     "output_type": "stream",
     "text": [
      "[[1.  0.5 1. ]]\n",
      "[[0.  0.5 0. ]\n",
      " [0.  0.  1. ]\n",
      " [1.  0.5 0. ]]\n"
     ]
    }
   ],
   "source": [
    "mult = 1 / A.sum(axis=0) ## 행벡터로 보고 componentwise 하게 더하기\n",
    "mult[np.isinf(mult)] = 0  ## nan or infinity 아닐 때 true 반환\n",
    "A_ = A.multiply(mult)#.tocsr()\n",
    "print(mult, A_.toarray(), sep='\\n')"
   ]
  },
  {
   "cell_type": "code",
   "execution_count": 6,
   "metadata": {},
   "outputs": [],
   "source": [
    "def AA(A, edge_index, batch_size=100000):\n",
    "    \"\"\"\n",
    "    Adamic Adar\n",
    "    :param A: scipy sparse adjacency matrix\n",
    "    :param edge_index: pyg edge_index\n",
    "    :param batch_size: int\n",
    "    :return: FloatTensor [edges] of scores, pyg edge_index\n",
    "    \"\"\"\n",
    "    multiplier = 1 / np.log(A.sum(axis=0)) # 행벡터로 보고 componentwise 하게 더하기\n",
    "    multiplier[np.isinf(multiplier)] = 0  ## nan or infinity 아닐 때 true 반환\n",
    "    A_ = A.multiply(multiplier).tocsr()\n",
    "    link_loader = DataLoader(range(edge_index.size(0)), batch_size)\n",
    "    scores = []\n",
    "    for ind in tqdm(link_loader):\n",
    "        src, dst = edge_index[ind, 0], edge_index[ind, 1]\n",
    "        cur_scores = np.array(np.sum(A[src].multiply(A_[dst]), 1)).flatten()\n",
    "        scores.append(cur_scores)\n",
    "    scores = np.concatenate(scores, 0)\n",
    "    print(f'evaluated Adamic Adar for {len(scores)} edges')\n",
    "    return torch.FloatTensor(scores), edge_index"
   ]
  },
  {
   "cell_type": "code",
   "execution_count": null,
   "metadata": {},
   "outputs": [],
   "source": [
    "def RA(A, edge_index, batch_size=100000):\n",
    "    \"\"\"\n",
    "    Resource Allocation https://arxiv.org/pdf/0901.0553.pdf\n",
    "    :param A: scipy sparse adjacency matrix\n",
    "    :param edge_index: pyg edge_index\n",
    "    :param batch_size: int\n",
    "    :return: FloatTensor [edges] of scores, pyg edge_index\n",
    "    \"\"\"\n",
    "    multiplier = 1 / A.sum(axis=0)\n",
    "    multiplier[np.isinf(multiplier)] = 0\n",
    "    A_ = A.multiply(multiplier).tocsr()\n",
    "    link_loader = DataLoader(range(edge_index.size(0)), batch_size)\n",
    "    scores = []\n",
    "    for ind in tqdm(link_loader):\n",
    "        src, dst = edge_index[ind, 0], edge_index[ind, 1]\n",
    "        cur_scores = np.array(np.sum(A[src].multiply(A_[dst]), 1)).flatten()\n",
    "        scores.append(cur_scores)\n",
    "    scores = np.concatenate(scores, 0)\n",
    "    print(f'evaluated Resource Allocation for {len(scores)} edges')\n",
    "    return torch.FloatTensor(scores), edge_index\n"
   ]
  },
  {
   "cell_type": "code",
   "execution_count": null,
   "metadata": {},
   "outputs": [],
   "source": [
    "def PPR(A, edge_index):\n",
    "    \"\"\"\n",
    "    The Personalized PageRank heuristic score.\n",
    "    Need to install fast_pagerank by \"pip install fast-pagerank\"\n",
    "    Too slow for large datasets now.\n",
    "    :param A: A CSR matrix using the 'message passing' edges\n",
    "    :param edge_index: The supervision edges to be scored\n",
    "    :return:\n",
    "    \"\"\"\n",
    "    from fast_pagerank import pagerank_power\n",
    "    num_nodes = A.shape[0]\n",
    "    src_index, sort_indices = torch.sort(edge_index[:, 0])\n",
    "    dst_index = edge_index[sort_indices, 1]\n",
    "    edge_reindex = torch.stack([src_index, dst_index])\n",
    "    scores = []\n",
    "    visited = set([])\n",
    "    j = 0\n",
    "    for i in tqdm(range(edge_reindex.shape[1])):\n",
    "        if i < j:\n",
    "            continue\n",
    "        src = edge_reindex[0, i]\n",
    "        personalize = np.zeros(num_nodes)\n",
    "        personalize[src] = 1\n",
    "        # get the ppr for the current source node\n",
    "        ppr = pagerank_power(A, p=0.85, personalize=personalize, tol=1e-7)\n",
    "        j = i\n",
    "        # get ppr for all links that start at this source to save recalculating the ppr score\n",
    "        while edge_reindex[0, j] == src:\n",
    "            j += 1\n",
    "            if j == edge_reindex.shape[1]:\n",
    "                break\n",
    "        all_dst = edge_reindex[1, i:j]\n",
    "        cur_scores = ppr[all_dst]\n",
    "        if cur_scores.ndim == 0:\n",
    "            cur_scores = np.expand_dims(cur_scores, 0)\n",
    "        scores.append(np.array(cur_scores))\n",
    "\n",
    "    scores = np.concatenate(scores, 0)\n",
    "    print(f'evaluated PPR for {len(scores)} edges')\n",
    "    return torch.FloatTensor(scores), edge_reindex"
   ]
  },
  {
   "cell_type": "code",
   "execution_count": null,
   "metadata": {},
   "outputs": [],
   "source": []
  }
 ],
 "metadata": {
  "kernelspec": {
   "display_name": "ss",
   "language": "python",
   "name": "python3"
  },
  "language_info": {
   "codemirror_mode": {
    "name": "ipython",
    "version": 3
   },
   "file_extension": ".py",
   "mimetype": "text/x-python",
   "name": "python",
   "nbconvert_exporter": "python",
   "pygments_lexer": "ipython3",
   "version": "3.9.16"
  },
  "orig_nbformat": 4
 },
 "nbformat": 4,
 "nbformat_minor": 2
}
