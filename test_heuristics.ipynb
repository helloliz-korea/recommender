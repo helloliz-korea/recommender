{
 "cells": [
  {
   "cell_type": "code",
   "execution_count": 4,
   "metadata": {},
   "outputs": [],
   "source": [
    "\"\"\"\n",
    "testing the simple heuristics Personalized PageRank, Adamic Adar and Common Neighbours\n",
    "\n",
    "This is the directed test graph\n",
    "   -> 0 -> 1 <-\n",
    "   |          |\n",
    "    --- 2 <---\n",
    "\"\"\"\n",
    "\n",
    "import unittest\n",
    "import math\n",
    "\n",
    "import torch\n",
    "from torch import tensor\n",
    "import scipy.sparse as ssp\n",
    "import numpy as np\n",
    "\n",
    "from heuristics import AA, PPR, CN, RA"
   ]
  },
  {
   "cell_type": "code",
   "execution_count": 6,
   "metadata": {},
   "outputs": [],
   "source": [
    "edge_index = tensor([[0, 2, 2, 1], [1, 0, 1, 2]]).t()\n",
    "edge_weight = torch.ones(edge_index.size(0), dtype=torch.int)\n",
    "test_edges = tensor([[0, 1], [1, 2]]).t()\n",
    "num_nodes = 3\n",
    "A = ssp.csr_matrix((edge_weight, (edge_index[:, 0], edge_index[:, 1])),\n",
    "                        shape=(num_nodes, num_nodes))#, dtype=np.float)\n",
    "neg_test_edges = tensor([[0, 1], [2, 0]]).t()\n",
    "\n",
    "# create a graph with 2 isomorphic nodes 2 & 3\n",
    "iso_edge_index = tensor([[2, 2, 3, 3, 4, 0], [1, 4, 1, 4, 0, 1]]).t()\n",
    "iso_edge_weight = torch.ones(iso_edge_index.size(0), dtype=int)\n",
    "iso_test_edges = tensor([[2, 3], [0, 0]]).t()\n",
    "iso_num_nodes = 5\n",
    "\n",
    "square1 = np.array([[0, 1, 1, 2, 2, 3, 3, 0],\n",
    "                    [1, 0, 2, 1, 3, 2, 0, 3]])\n",
    "square2 = square1 + 4\n",
    "bridge = np.array([[0, 4],\n",
    "                    [4, 0]])\n",
    "\n",
    "common_neigbours = np.array([[0, 9, 9, 4, 0, 8, 4, 8],\n",
    "                                [9, 0, 4, 9, 8, 0, 8, 4]])\n",
    "\n",
    "ei = torch.tensor(np.concatenate([square1, square2, bridge, common_neigbours], axis=1), dtype=torch.long)\n",
    "ew = torch.ones(ei.size(1), dtype=int)\n",
    "num_nodes = 10\n",
    "A1 = ssp.csr_matrix((ew, (ei[0], ei[1])), shape=(num_nodes, num_nodes))"
   ]
  },
  {
   "cell_type": "code",
   "execution_count": 19,
   "metadata": {},
   "outputs": [],
   "source": [
    "def test_CN(A, edge_index, neg_test_edges, test_edges):\n",
    "    train_scores, edge_index = CN(A, edge_index)\n",
    "    t1 = np.array_equal(train_scores, np.array([0, 1, 0, 0]))\n",
    "    neg_scores, edge_index = CN(A, neg_test_edges)\n",
    "    t2 = np.array_equal(neg_scores, np.array([1, 0]))\n",
    "    pos_scores, edge_index = CN(A, test_edges)\n",
    "    t3 = np.array_equal(pos_scores, np.array([0, 0]))\n",
    "    return t1, t2, t3\n",
    "\n",
    "def test_AA(A, edge_index, neg_test_edges, test_edges):\n",
    "    train_scores, edge_index = AA(A, edge_index)\n",
    "    print(train_scores)\n",
    "    a1 = np.allclose(train_scores, np.array([0, 1 / math.log(2), 0, 0]))\n",
    "    neg_scores, edge_index = AA(A, neg_test_edges)\n",
    "    a2 = np.allclose(neg_scores, np.array([1 / math.log(2), 0]))\n",
    "    pos_scores, edge_index = AA(A, test_edges)\n",
    "    a3 = np.allclose(pos_scores, np.array([0, 0]))\n",
    "    return a1, a2, a3\n",
    "\n",
    "def test_RA(A, edge_index, neg_test_edges, test_edges):\n",
    "    train_scores, edge_index = RA(A, edge_index)\n",
    "    print(train_scores)\n",
    "    r1 = np.allclose(train_scores, np.array([0, 1 / 2, 0, 0]))\n",
    "    neg_scores, edge_index = RA(A, neg_test_edges)\n",
    "    r2 = np.allclose(neg_scores, np.array([1 / 2, 0]))\n",
    "    pos_scores, edge_index = RA(A, test_edges)\n",
    "    r3 = np.allclose(pos_scores, np.array([0, 0]))\n",
    "    return r1, r2, r3\n",
    "\n",
    "def test_iso_graph(A, iso_edge_weight, iso_edge_index, iso_num_nodes):\n",
    "    A = ssp.csr_matrix((iso_edge_weight, (iso_edge_index[:, 0], iso_edge_index[:, 1])),\n",
    "                        shape=(iso_num_nodes, iso_num_nodes))\n",
    "    aa_test_scores, edge_index = AA(A, iso_test_edges)\n",
    "    print(aa_test_scores)\n",
    "    s1 = np.array_equal(aa_test_scores[0], aa_test_scores[1])\n",
    "    cn_test_scores, edge_index = CN(A, iso_test_edges)\n",
    "    print(cn_test_scores)\n",
    "    s2 = np.array_equal(cn_test_scores[0], cn_test_scores[1])\n",
    "    ppr_test_scores, edge_index = PPR(A, iso_test_edges)\n",
    "    print(ppr_test_scores)\n",
    "    s3 = np.array_equal(ppr_test_scores[0], ppr_test_scores[1])\n",
    "    return s1, s2, s3"
   ]
  },
  {
   "cell_type": "code",
   "execution_count": 23,
   "metadata": {},
   "outputs": [
    {
     "name": "stderr",
     "output_type": "stream",
     "text": [
      "100%|██████████| 1/1 [00:00<00:00, 1002.22it/s]\n"
     ]
    },
    {
     "name": "stdout",
     "output_type": "stream",
     "text": [
      "evaluated Common Neighbours for 4 edges\n"
     ]
    },
    {
     "name": "stderr",
     "output_type": "stream",
     "text": [
      "100%|██████████| 1/1 [00:00<00:00, 1002.46it/s]\n"
     ]
    },
    {
     "name": "stdout",
     "output_type": "stream",
     "text": [
      "evaluated Common Neighbours for 2 edges\n"
     ]
    },
    {
     "name": "stderr",
     "output_type": "stream",
     "text": [
      "100%|██████████| 1/1 [00:00<00:00, 1002.94it/s]\n"
     ]
    },
    {
     "name": "stdout",
     "output_type": "stream",
     "text": [
      "evaluated Common Neighbours for 2 edges\n"
     ]
    },
    {
     "name": "stderr",
     "output_type": "stream",
     "text": [
      "100%|██████████| 1/1 [00:00<00:00, 500.93it/s]\n"
     ]
    },
    {
     "name": "stdout",
     "output_type": "stream",
     "text": [
      "evaluated Adamic Adar for 4 edges\n",
      "tensor([0.0000, 1.4427, 0.0000, 0.0000])\n"
     ]
    },
    {
     "name": "stderr",
     "output_type": "stream",
     "text": [
      "100%|██████████| 1/1 [00:00<00:00, 1003.66it/s]\n"
     ]
    },
    {
     "name": "stdout",
     "output_type": "stream",
     "text": [
      "evaluated Adamic Adar for 2 edges\n"
     ]
    },
    {
     "name": "stderr",
     "output_type": "stream",
     "text": [
      "100%|██████████| 1/1 [00:00<00:00, 1003.42it/s]\n"
     ]
    },
    {
     "name": "stdout",
     "output_type": "stream",
     "text": [
      "evaluated Adamic Adar for 2 edges\n"
     ]
    },
    {
     "name": "stderr",
     "output_type": "stream",
     "text": [
      "100%|██████████| 1/1 [00:00<00:00, 1004.86it/s]\n"
     ]
    },
    {
     "name": "stdout",
     "output_type": "stream",
     "text": [
      "evaluated Common Neighbours for 4 edges\n"
     ]
    },
    {
     "name": "stderr",
     "output_type": "stream",
     "text": [
      "100%|██████████| 1/1 [00:00<00:00, 501.59it/s]\n"
     ]
    },
    {
     "name": "stdout",
     "output_type": "stream",
     "text": [
      "evaluated Common Neighbours for 2 edges\n"
     ]
    },
    {
     "name": "stderr",
     "output_type": "stream",
     "text": [
      "100%|██████████| 1/1 [00:00<00:00, 1001.27it/s]\n"
     ]
    },
    {
     "name": "stdout",
     "output_type": "stream",
     "text": [
      "evaluated Common Neighbours for 2 edges\n"
     ]
    },
    {
     "name": "stderr",
     "output_type": "stream",
     "text": [
      "100%|██████████| 1/1 [00:00<00:00, 501.41it/s]\n"
     ]
    },
    {
     "name": "stdout",
     "output_type": "stream",
     "text": [
      "evaluated Adamic Adar for 2 edges\n",
      "tensor([0.9102, 0.9102])\n"
     ]
    },
    {
     "name": "stderr",
     "output_type": "stream",
     "text": [
      "100%|██████████| 1/1 [00:00<00:00, 501.47it/s]\n"
     ]
    },
    {
     "name": "stdout",
     "output_type": "stream",
     "text": [
      "evaluated Common Neighbours for 2 edges\n",
      "tensor([1., 1.])\n"
     ]
    },
    {
     "name": "stderr",
     "output_type": "stream",
     "text": [
      "100%|██████████| 2/2 [00:00<00:00, 501.53it/s]"
     ]
    },
    {
     "name": "stdout",
     "output_type": "stream",
     "text": [
      "evaluated PPR for 2 edges\n",
      "tensor([0.1434, 0.1434])\n",
      "(True, True, True)\n",
      "------------------\n",
      "(True, True, True)\n",
      "------------------\n",
      "(True, True, True)\n",
      "------------------\n",
      "(True, True, True)\n"
     ]
    },
    {
     "name": "stderr",
     "output_type": "stream",
     "text": [
      "\n"
     ]
    }
   ],
   "source": [
    "t_CN = test_CN(A, edge_index, neg_test_edges, test_edges)\n",
    "t_AA = test_AA(A, edge_index, neg_test_edges, test_edges)\n",
    "t_RA = test_CN(A, edge_index, neg_test_edges, test_edges)\n",
    "t_iso = test_iso_graph(A, iso_edge_weight, iso_edge_index, iso_num_nodes)\n",
    "print(t_CN, '------------------', t_AA, '------------------', t_RA, '------------------', t_iso, sep='\\n')"
   ]
  },
  {
   "cell_type": "code",
   "execution_count": null,
   "metadata": {},
   "outputs": [],
   "source": [
    "# class HeuristicTests(unittest.TestCase):\n",
    "#     def setUp(self):\n",
    "#         self.edge_index = tensor([[0, 2, 2, 1], [1, 0, 1, 2]]).t()\n",
    "#         self.edge_weight = torch.ones(self.edge_index.size(0), dtype=torch.int)\n",
    "#         self.test_edges = tensor([[0, 1], [1, 2]]).t()\n",
    "#         self.num_nodes = 3\n",
    "#         self.neg_test_edges = tensor([[0, 1], [2, 0]]).t()\n",
    "#         self.A = ssp.csr_matrix((self.edge_weight, (self.edge_index[:, 0], self.edge_index[:, 1])),\n",
    "#                                 shape=(self.num_nodes, self.num_nodes), dtype=np.float)\n",
    "#         # create a graph with 2 isomorphic nodes 2 & 3\n",
    "#         self.iso_edge_index = tensor([[2, 2, 3, 3, 4, 0], [1, 4, 1, 4, 0, 1]]).t()\n",
    "#         self.iso_edge_weight = torch.ones(self.iso_edge_index.size(0), dtype=int)\n",
    "#         self.iso_test_edges = tensor([[2, 3], [0, 0]]).t()\n",
    "#         self.iso_num_nodes = 5\n",
    "\n",
    "#         square1 = np.array([[0, 1, 1, 2, 2, 3, 3, 0],\n",
    "#                             [1, 0, 2, 1, 3, 2, 0, 3]])\n",
    "#         square2 = square1 + 4\n",
    "#         bridge = np.array([[0, 4],\n",
    "#                            [4, 0]])\n",
    "\n",
    "#         common_neigbours = np.array([[0, 9, 9, 4, 0, 8, 4, 8],\n",
    "#                                      [9, 0, 4, 9, 8, 0, 8, 4]])\n",
    "\n",
    "#         self.ei = torch.tensor(np.concatenate([square1, square2, bridge, common_neigbours], axis=1), dtype=torch.long)\n",
    "#         ew = torch.ones(self.ei.size(1), dtype=int)\n",
    "#         num_nodes = 10\n",
    "#         self.A1 = ssp.csr_matrix((ew, (self.ei[0], self.ei[1])), shape=(num_nodes, num_nodes))\n",
    "\n",
    "#     def test_CN(self):\n",
    "#         train_scores, edge_index = CN(self.A, self.edge_index)\n",
    "#         self.assertTrue(np.array_equal(train_scores, np.array([0, 1, 0, 0])))\n",
    "#         neg_scores, edge_index = CN(self.A, self.neg_test_edges)\n",
    "#         self.assertTrue(np.array_equal(neg_scores, np.array([1, 0])))\n",
    "#         pos_scores, edge_index = CN(self.A, self.test_edges)\n",
    "#         self.assertTrue(np.array_equal(pos_scores, np.array([0, 0])))\n",
    "\n",
    "#     def test_AA(self):\n",
    "#         train_scores, edge_index = AA(self.A, self.edge_index)\n",
    "#         print(train_scores)\n",
    "#         self.assertTrue(np.allclose(train_scores, np.array([0, 1 / math.log(2), 0, 0])))\n",
    "#         neg_scores, edge_index = AA(self.A, self.neg_test_edges)\n",
    "#         self.assertTrue(np.allclose(neg_scores, np.array([1 / math.log(2), 0])))\n",
    "#         pos_scores, edge_index = AA(self.A, self.test_edges)\n",
    "#         self.assertTrue(np.allclose(pos_scores, np.array([0, 0])))\n",
    "\n",
    "#     def test_RA(self):\n",
    "#         train_scores, edge_index = RA(self.A, self.edge_index)\n",
    "#         print(train_scores)\n",
    "#         self.assertTrue(np.allclose(train_scores, np.array([0, 1 / 2, 0, 0])))\n",
    "#         neg_scores, edge_index = RA(self.A, self.neg_test_edges)\n",
    "#         self.assertTrue(np.allclose(neg_scores, np.array([1 / 2, 0])))\n",
    "#         pos_scores, edge_index = RA(self.A, self.test_edges)\n",
    "#         self.assertTrue(np.allclose(pos_scores, np.array([0, 0])))\n",
    "\n",
    "#     def test_iso_graph(self):\n",
    "#         A = ssp.csr_matrix((self.iso_edge_weight, (self.iso_edge_index[:, 0], self.iso_edge_index[:, 1])),\n",
    "#                            shape=(self.iso_num_nodes, self.iso_num_nodes))\n",
    "#         aa_test_scores, edge_index = AA(A, self.iso_test_edges)\n",
    "#         print(aa_test_scores)\n",
    "#         self.assertTrue(aa_test_scores[0] == aa_test_scores[1])\n",
    "#         cn_test_scores, edge_index = CN(A, self.iso_test_edges)\n",
    "#         print(cn_test_scores)\n",
    "#         self.assertTrue(cn_test_scores[0] == cn_test_scores[1])\n",
    "#         ppr_test_scores, edge_index = PPR(A, self.iso_test_edges)\n",
    "#         print(ppr_test_scores)\n",
    "#         self.assertTrue(ppr_test_scores[0] == ppr_test_scores[1])"
   ]
  },
  {
   "cell_type": "markdown",
   "metadata": {},
   "source": []
  }
 ],
 "metadata": {
  "kernelspec": {
   "display_name": "ss",
   "language": "python",
   "name": "python3"
  },
  "language_info": {
   "codemirror_mode": {
    "name": "ipython",
    "version": 3
   },
   "file_extension": ".py",
   "mimetype": "text/x-python",
   "name": "python",
   "nbconvert_exporter": "python",
   "pygments_lexer": "ipython3",
   "version": "3.9.16"
  },
  "orig_nbformat": 4
 },
 "nbformat": 4,
 "nbformat_minor": 2
}
