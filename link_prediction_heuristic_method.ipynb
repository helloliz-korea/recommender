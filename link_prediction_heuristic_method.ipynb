{
 "cells": [
  {
   "attachments": {},
   "cell_type": "markdown",
   "metadata": {},
   "source": [
    "# Link Prediction : 7가지 = 동일한 커뮤니티 (그래프 전체), 다른 커뮤니티 (서로 다른 서브그래프들)\n",
    "- [참고] https://brain-nim.tistory.com/m/76  \n",
    "\n",
    "## 1. 하나의(동일한) community에서 링크를 예측하는 휴리스틱한 방법들 : Heuristics = CN, Jaccard, RA, AA, PA\n",
    "- CN 에서 거리 2인 경로 구하는 과정만 추가되고, 이후의 계산은 모두 `networkx` 라이브러리 사용  \n",
    "  \n",
    "1. `CN (Common Neighbors)` : $CN(x,y)=|N(x)\\cap N(y)|$  \n",
    "  \n",
    "2. `Jaccard Coefficient` : $J(x,y)=\\frac{|N(x)\\cap N(y)|}{|N(x)\\cup N(y)|}$  \n",
    "  \n",
    "3. `RA (Resource Allocation)` : $RA(x,y)=\\sum_{v\\in N(x)\\cap N(y)}\\frac{1}{|N(v)|}$  \n",
    "  \n",
    "4. `AA (Adamic-Adar Index)` : $AA(x,y)=\\sum_{v\\in N(x)\\cap N(y)}\\frac{1}{\\log |N(v)|}$  \n",
    "  \n",
    "5. `PA (Preferential Attachment Model, Barabasi Albert Model)` : $PA(x,y)=|N(x)||N(y)|$  \n",
    "\n",
    "### 1-0. 예제 그래프 만들기 : 하나의 커뮤니티만 다루기 때문에 그래프 전체를 생각 \n",
    "- $G=(V,E),~~|V|=9,~~ |E|=12$  \n",
    "  \n",
    "- 나중에 Cora dataset 으로 만든 그래프 넣어서 실험하면 됨"
   ]
  },
  {
   "cell_type": "code",
   "execution_count": 1,
   "metadata": {},
   "outputs": [
    {
     "data": {
      "image/png": "[encoded data removed]",
      "text/plain": [
       "<Figure size 640x480 with 1 Axes>"
      ]
     },
     "metadata": {},
     "output_type": "display_data"
    }
   ],
   "source": [
    "import networkx as nx\n",
    "\n",
    "edges = [('A','B'),('A','D'),('A','E'),('B','D'),('B','C'),('C','D'),('C','F'),\n",
    "         ('E','F'),('E','G'),('F','G'),('G','H'),('G','I')]\n",
    "G = nx.Graph()\n",
    "G.add_edges_from(edges)\n",
    "nx.draw(G, with_labels=True, node_color='white')"
   ]
  },
  {
   "attachments": {},
   "cell_type": "markdown",
   "metadata": {},
   "source": [
    "### 1-1. `CN (Common Neighbors)`  \n",
    "- $CN(x,y)=|N(x)\\cap N(y)|$  \n",
    "    where $x,y$ : nodes and $N(x), N(y)$ : neighborhoods of $x,y$ (respectively)  \n",
    "  \n",
    "- [예] $CN(A,C)=|\\{B,D\\}|=2$  \n",
    "  \n",
    "- 알고리즘 순서  \n",
    "    a. 비연결 node pair 구하기  \n",
    "  \n",
    "    b. 거리 2인 경로 구하기  \n",
    "    - 방법 : a 에서 구한 각 비연결 노드 pair에 대한 (1-hop) 이웃 노드를 거치면 거리 2인 경로  \n",
    "    - `nx.common_neighbors(G, u, v)` where $G$ : undirected graph and $u,v$ : nodes  \n",
    "    - https://networkx.org/documentation/stable/reference/generated/networkx.classes.function.common_neighbors.html\n",
    "  \n",
    "    c. 각 node pair 마다 길이 2인 경로의 개수 세기"
   ]
  },
  {
   "cell_type": "code",
   "execution_count": 11,
   "metadata": {},
   "outputs": [
    {
     "name": "stdout",
     "output_type": "stream",
     "text": [
      "[('A', 'C'), ('A', 'I'), ('A', 'G'), ('A', 'F'), ('A', 'H'), ('C', 'E'), ('C', 'H'), ('C', 'I'), ('C', 'G'), ('D', 'I'), ('D', 'G'), ('D', 'E'), ('D', 'F'), ('D', 'H'), ('I', 'E'), ('I', 'F'), ('I', 'H'), ('I', 'B'), ('G', 'B'), ('E', 'H'), ('E', 'B'), ('F', 'H'), ('F', 'B'), ('H', 'B')]\n"
     ]
    }
   ],
   "source": [
    "## (1) CN (Common Neighbors) \n",
    "#### 엣지 연결이 없는 노드쌍\n",
    "non_edges = list(nx.non_edges(G))\n",
    "print(non_edges)"
   ]
  },
  {
   "cell_type": "code",
   "execution_count": 13,
   "metadata": {},
   "outputs": [
    {
     "name": "stdout",
     "output_type": "stream",
     "text": [
      "A C ['B', 'D']\n",
      "A I []\n",
      "A G ['E']\n",
      "A F ['E']\n",
      "A H []\n",
      "C E ['F']\n",
      "C H []\n",
      "C I []\n",
      "C G ['F']\n",
      "D I []\n",
      "D G []\n",
      "D E ['A']\n",
      "D F ['C']\n",
      "D H []\n",
      "I E ['G']\n",
      "I F ['G']\n",
      "I H ['G']\n",
      "I B []\n",
      "G B []\n",
      "E H ['G']\n",
      "E B ['A']\n",
      "F H ['G']\n",
      "F B ['C']\n",
      "H B []\n"
     ]
    }
   ],
   "source": [
    "#### 길이 2인 경로 구하기 : \n",
    "CN = {}\n",
    "for s,t in non_edges:\n",
    "    print(s,t, list(nx.common_neighbors(G,s,t))) \n",
    "## A-C는 경로 2개라는 거임 -> 길이 2인 경로가 가장 많음 "
   ]
  },
  {
   "cell_type": "code",
   "execution_count": 15,
   "metadata": {},
   "outputs": [
    {
     "data": {
      "text/plain": [
       "[(('A', 'C'), 2),\n",
       " (('A', 'G'), 1),\n",
       " (('A', 'F'), 1),\n",
       " (('C', 'E'), 1),\n",
       " (('C', 'G'), 1),\n",
       " (('D', 'E'), 1),\n",
       " (('D', 'F'), 1),\n",
       " (('I', 'E'), 1),\n",
       " (('I', 'F'), 1),\n",
       " (('I', 'H'), 1),\n",
       " (('E', 'H'), 1),\n",
       " (('E', 'B'), 1),\n",
       " (('F', 'H'), 1),\n",
       " (('F', 'B'), 1),\n",
       " (('A', 'I'), 0),\n",
       " (('A', 'H'), 0),\n",
       " (('C', 'H'), 0),\n",
       " (('C', 'I'), 0),\n",
       " (('D', 'I'), 0),\n",
       " (('D', 'G'), 0),\n",
       " (('D', 'H'), 0),\n",
       " (('I', 'B'), 0),\n",
       " (('G', 'B'), 0),\n",
       " (('H', 'B'), 0)]"
      ]
     },
     "execution_count": 15,
     "metadata": {},
     "output_type": "execute_result"
    }
   ],
   "source": [
    "## (1) CN (Common Neighbors) \n",
    "# 엣지 연결이 없는 노드쌍\n",
    "non_edges = list(nx.non_edges(G))\n",
    "# print(non_edges)\n",
    "\n",
    "# 공통이웃 수 count 딕셔너리 생성\n",
    "common_neighbors_count = {}\n",
    "for n1,n2 in non_edges:\n",
    "    common_neighbors_count[(n1, n2)] = len(list(nx.common_neighbors(G, n1, n2)))\n",
    "    # print(common_neighbors_count)\n",
    "sorted(common_neighbors_count.items(), key=lambda x: x[1], reverse=True)"
   ]
  },
  {
   "attachments": {},
   "cell_type": "markdown",
   "metadata": {},
   "source": [
    "### 1-2. `Jaccard Coefficient (- index, - similarity)`  \n",
    "- $J(x,y)=\\frac{|N(x)\\cap N(y)|}{|N(x)\\cup N(y)|}$  \n",
    "  \n",
    "- [예] $J(A,C)=\\frac{|\\{B,D\\}|}{|\\{B,D,E,F\\}|}=\\frac{2}{4}=0.5$  \n",
    "  \n",
    "- `nx.jaccard_coefficient(G, ebunch=None)`  where `ebunch` : iterable of node pairs, optional (default = None)  \n",
    "  \n",
    "- https://networkx.org/documentation/stable/reference/algorithms/generated/networkx.algorithms.link_prediction.jaccard_coefficient.html#networkx.algorithms.link_prediction.jaccard_coefficient "
   ]
  },
  {
   "cell_type": "code",
   "execution_count": 22,
   "metadata": {},
   "outputs": [
    {
     "name": "stdout",
     "output_type": "stream",
     "text": [
      "unsorted jaccard index :\n",
      "[('A', 'C', 0.5), ('A', 'I', 0.0), ('A', 'G', 0.16666666666666666), ('A', 'F', 0.2), ('A', 'H', 0.0), ('C', 'E', 0.2), ('C', 'H', 0.0), ('C', 'I', 0.0), ('C', 'G', 0.16666666666666666), ('D', 'I', 0.0), ('D', 'G', 0.0), ('D', 'E', 0.2), ('D', 'F', 0.2), ('D', 'H', 0.0), ('I', 'E', 0.3333333333333333), ('I', 'F', 0.3333333333333333), ('I', 'H', 1.0), ('I', 'B', 0.0), ('G', 'B', 0.0), ('E', 'H', 0.3333333333333333), ('E', 'B', 0.2), ('F', 'H', 0.3333333333333333), ('F', 'B', 0.2), ('H', 'B', 0.0)]\n",
      "---------------------------------------------------\n",
      "(I,H) -> 1.0\n",
      "(A,C) -> 0.5\n",
      "(I,E) -> 0.3333333333333333\n",
      "(I,F) -> 0.3333333333333333\n",
      "(E,H) -> 0.3333333333333333\n",
      "(F,H) -> 0.3333333333333333\n",
      "(A,F) -> 0.2\n",
      "(C,E) -> 0.2\n",
      "(D,E) -> 0.2\n",
      "(D,F) -> 0.2\n",
      "(E,B) -> 0.2\n",
      "(F,B) -> 0.2\n",
      "(A,G) -> 0.16666666666666666\n",
      "(C,G) -> 0.16666666666666666\n",
      "(A,I) -> 0.0\n",
      "(A,H) -> 0.0\n",
      "(C,H) -> 0.0\n",
      "(C,I) -> 0.0\n",
      "(D,I) -> 0.0\n",
      "(D,G) -> 0.0\n",
      "(D,H) -> 0.0\n",
      "(I,B) -> 0.0\n",
      "(G,B) -> 0.0\n",
      "(H,B) -> 0.0\n"
     ]
    }
   ],
   "source": [
    "## (2) Jaccard\n",
    "jaccard = list(nx.jaccard_coefficient(G))\n",
    "print('unsorted jaccard index :\\n%s' % jaccard)\n",
    "jaccard = sorted(jaccard, key=lambda x: x[2], reverse=True)  \n",
    "print('---------------------------------------------------')\n",
    "# jaccard.sort(key=lambda x: x[2], reverse=True)  \n",
    "# print('Jaccard = %s' % jaccard)\n",
    "for u,v,j in jaccard:\n",
    "    print(f\"({u},{v}) -> {j}\")#:.8f}\")"
   ]
  },
  {
   "attachments": {},
   "cell_type": "markdown",
   "metadata": {},
   "source": [
    "### 1-3. `RA, Resource Allocation (자원할당)`  \n",
    "- $RA(x,y)=\\sum_{v\\in N(x)\\cap N(y)}\\frac{1}{|N(v)|}$  \n",
    "  \n",
    "- [예] $RA(A,C)=\\frac{1}{|N(B)|}+\\frac{1}{|N(D)|}=\\frac{1}{3}+\\frac{1}{3}=\\frac{2}{3}=0.666\\ldots$  \n",
    "    - $N(A)\\cap N(C)=\\{B,D,E\\}\\cap \\{B,D,F\\}=\\{B,D\\}$\n",
    "  \n",
    "- `resource_allocation_index(G, ebunch=None)`\n",
    "  \n",
    "- https://networkx.org/documentation/stable/reference/algorithms/generated/networkx.algorithms.link_prediction.resource_allocation_index.html"
   ]
  },
  {
   "cell_type": "code",
   "execution_count": 23,
   "metadata": {},
   "outputs": [
    {
     "name": "stdout",
     "output_type": "stream",
     "text": [
      "(A,C) -> 0.6666666666666666\n",
      "(A,G) -> 0.3333333333333333\n",
      "(A,F) -> 0.3333333333333333\n",
      "(C,E) -> 0.3333333333333333\n",
      "(C,G) -> 0.3333333333333333\n",
      "(D,E) -> 0.3333333333333333\n",
      "(D,F) -> 0.3333333333333333\n",
      "(E,B) -> 0.3333333333333333\n",
      "(F,B) -> 0.3333333333333333\n",
      "(I,E) -> 0.25\n",
      "(I,F) -> 0.25\n",
      "(I,H) -> 0.25\n",
      "(E,H) -> 0.25\n",
      "(F,H) -> 0.25\n",
      "(A,I) -> 0\n",
      "(A,H) -> 0\n",
      "(C,H) -> 0\n",
      "(C,I) -> 0\n",
      "(D,I) -> 0\n",
      "(D,G) -> 0\n",
      "(D,H) -> 0\n",
      "(I,B) -> 0\n",
      "(G,B) -> 0\n",
      "(H,B) -> 0\n"
     ]
    }
   ],
   "source": [
    "## (3) RA, 자원 할당\n",
    "resource = list(nx.resource_allocation_index(G))\n",
    "resource = sorted(resource, key=lambda x: x[2], reverse=True)\n",
    "for u,v,r in resource:\n",
    "    print(f\"({u},{v}) -> {r}\")"
   ]
  },
  {
   "attachments": {},
   "cell_type": "markdown",
   "metadata": {},
   "source": [
    "### 1-4. `AA, Adamic Adar`  \n",
    "- $AA(x,y)=\\sum_{v\\in N(x)\\cap N(y)}\\frac{1}{\\log|N(v)|}$  \n",
    "  \n",
    "- [예] $RA(A,C)=\\frac{1}{\\log|N(B)|}+\\frac{1}{\\log|N(D)|}=\\frac{1}{\\log 3}+\\frac{1}{\\log 3}=1.820478\\ldots$  \n",
    "  \n",
    "- `resource_allocation_index(G, ebunch=None)`  \n",
    "  \n",
    "- https://networkx.org/documentation/stable/reference/algorithms/generated/networkx.algorithms.link_prediction.resource_allocation_index.html#networkx.algorithms.link_prediction.resource_allocation_index"
   ]
  },
  {
   "cell_type": "code",
   "execution_count": 24,
   "metadata": {},
   "outputs": [
    {
     "name": "stdout",
     "output_type": "stream",
     "text": [
      "(A,C) -> 1.8204784532536746\n",
      "(A,G) -> 0.9102392266268373\n",
      "(A,F) -> 0.9102392266268373\n",
      "(C,E) -> 0.9102392266268373\n",
      "(C,G) -> 0.9102392266268373\n",
      "(D,E) -> 0.9102392266268373\n",
      "(D,F) -> 0.9102392266268373\n",
      "(E,B) -> 0.9102392266268373\n",
      "(F,B) -> 0.9102392266268373\n",
      "(I,E) -> 0.7213475204444817\n",
      "(I,F) -> 0.7213475204444817\n",
      "(I,H) -> 0.7213475204444817\n",
      "(E,H) -> 0.7213475204444817\n",
      "(F,H) -> 0.7213475204444817\n",
      "(A,I) -> 0\n",
      "(A,H) -> 0\n",
      "(C,H) -> 0\n",
      "(C,I) -> 0\n",
      "(D,I) -> 0\n",
      "(D,G) -> 0\n",
      "(D,H) -> 0\n",
      "(I,B) -> 0\n",
      "(G,B) -> 0\n",
      "(H,B) -> 0\n"
     ]
    }
   ],
   "source": [
    "## AA\n",
    "aa = list(nx.adamic_adar_index(G))\n",
    "aa = sorted(aa, key=lambda x: x[2], reverse=True)\n",
    "for u,v,a in aa:\n",
    "    print(f\"({u},{v}) -> {a}\")"
   ]
  },
  {
   "attachments": {},
   "cell_type": "markdown",
   "metadata": {},
   "source": [
    "### 1-5. `PA, Preferential Attachment, Barabasi Albert`\n",
    "- $PA(x,y)=|N(x)||N(y)|$  \n",
    "  \n",
    "- [예] $PA(A,C)=|N(A)||N(C)|=3\\times 3=9$  \n",
    "  \n",
    "- `preferential_attachment(G, ebunch=None)`  \n",
    "  \n",
    "- https://networkx.org/documentation/stable/reference/algorithms/generated/networkx.algorithms.link_prediction.preferential_attachment.html#networkx.algorithms.link_prediction.preferential_attachment"
   ]
  },
  {
   "cell_type": "code",
   "execution_count": 25,
   "metadata": {},
   "outputs": [
    {
     "name": "stdout",
     "output_type": "stream",
     "text": [
      "(A,G) -> 12\n",
      "(C,G) -> 12\n",
      "(D,G) -> 12\n",
      "(G,B) -> 12\n",
      "(A,C) -> 9\n",
      "(A,F) -> 9\n",
      "(C,E) -> 9\n",
      "(D,E) -> 9\n",
      "(D,F) -> 9\n",
      "(E,B) -> 9\n",
      "(F,B) -> 9\n",
      "(A,I) -> 3\n",
      "(A,H) -> 3\n",
      "(C,H) -> 3\n",
      "(C,I) -> 3\n",
      "(D,I) -> 3\n",
      "(D,H) -> 3\n",
      "(I,E) -> 3\n",
      "(I,F) -> 3\n",
      "(I,B) -> 3\n",
      "(E,H) -> 3\n",
      "(F,H) -> 3\n",
      "(H,B) -> 3\n",
      "(I,H) -> 1\n"
     ]
    }
   ],
   "source": [
    "## (5) PA \n",
    "pref = list(nx.preferential_attachment(G))\n",
    "pref = sorted(pref, key=lambda x: x[2], reverse=True)\n",
    "for u,v,p in pref:\n",
    "    print(f\"({u},{v}) -> {p}\")"
   ]
  },
  {
   "attachments": {},
   "cell_type": "markdown",
   "metadata": {},
   "source": [
    "## 2. 서로 다른 커뮤니티에서의 링크 예측 \n",
    "- `networkx` 라이브러리 이용해서 계산하면 되므로 그래프만 만들면 됨\n",
    "### 2-0. 예제 그래프 만들기 : 하나의 그래프에서 서로 다른 두 커뮤니티(즉, 두 부분그래프)를 다룰 것임 -> 위와 같은 그래프인데, 두 서브그래프로 나눠서 다룸 \n",
    "- `community0 = [A,B,C,D]`  \n",
    "- `community1 = [E,F,G,H,I]`"
   ]
  },
  {
   "cell_type": "code",
   "execution_count": null,
   "metadata": {},
   "outputs": [],
   "source": [
    "# community0 = ['A','B','C','D']\n",
    "# community1 = ['E','F','G','H','I']\n",
    "# labels = dict(zip(list(range(8)), community0 + community1))\n",
    "# # print(list(range(0,4)), list(range(4,9)))\n",
    "# print(labels)"
   ]
  },
  {
   "attachments": {},
   "cell_type": "markdown",
   "metadata": {},
   "source": [
    "- node coloring 참고 : https://choiseokwon.tistory.com/172"
   ]
  },
  {
   "cell_type": "code",
   "execution_count": 4,
   "metadata": {},
   "outputs": [],
   "source": [
    "# import networkx as nx\n",
    "# import matplotlib.pyplot as plt\n",
    "\n",
    "# G = nx.Graph()\n",
    "# G.add_edge(1,2, weight=5)\n",
    "# G.add_edge(1,3, weight=6)\n",
    "# G.add_edge(1,4, weight=2)\n",
    "# G.add_edge(2,4, weight=1)\n",
    "# G.add_edge(1,4, weight=0.5)\n",
    "# pos = nx.spring_layout(G)\n",
    "# nx.draw(G, pos, with_labels=True)\n",
    "# labels = nx.get_edge_attributes(G, 'weight')\n",
    "# print(labels)\n",
    "# nx.draw_networkx_edge_labels(G, pos, edge_labels=labels)"
   ]
  },
  {
   "cell_type": "code",
   "execution_count": 13,
   "metadata": {},
   "outputs": [
    {
     "data": {
      "text/plain": [
       "NodeDataView({'A': {'community': 0}, 'B': {'community': 0}, 'D': {'community': 0}, 'E': {'community': 1}, 'C': {'community': 0}, 'F': {'community': 1}, 'G': {'community': 1}, 'H': {'community': 1}, 'I': {'community': 1}})"
      ]
     },
     "execution_count": 13,
     "metadata": {},
     "output_type": "execute_result"
    },
    {
     "data": {
      "image/png": "[encoded data removed]",
      "text/plain": [
       "<Figure size 640x480 with 1 Axes>"
      ]
     },
     "metadata": {},
     "output_type": "display_data"
    }
   ],
   "source": [
    "import networkx as nx\n",
    "\n",
    "edges = [('A','B'),('A','D'),('A','E'),('B','D'),('B','C'),('C','D'),('C','F'),\n",
    "        ('E','F'),('E','G'),('F','G'),('G','H'),('G','I')]\n",
    "community0 = ['A','B','C','D'] ## 빨간색 노드\n",
    "community1 = ['E','F','G','H','I'] ## 파란색 노드\n",
    "\n",
    "G = nx.Graph()\n",
    "G.add_edges_from(edges) \n",
    "pos = nx.spring_layout(G, seed=2023) ## positions for all nodes \n",
    "nx.draw(G, pos=pos, with_labels=True, font_color=\"whitesmoke\") \n",
    "nx.draw_networkx_nodes(G, pos, ['A','B','C','D'], node_color=\"tab:red\")\n",
    "nx.draw_networkx_nodes(G, pos, ['E','F','G','H','I'], node_color=\"tab:blue\")\n",
    "G.add_nodes_from(community0, community=0)\n",
    "G.add_nodes_from(community1, community=1)\n",
    "G.nodes(data=True)"
   ]
  },
  {
   "attachments": {},
   "cell_type": "markdown",
   "metadata": {},
   "source": [
    "### 2-1. `Community CN (C.N. Soundarajan-Hopcroft score)`\n",
    "- \"the common neighbors Soundarajan-Hopcroft score of nodes $x$ and $y$\"\n",
    "    - $CCN(x,y):=|N(x)\\cap N(y)|+\\sum_{v\\in N(x)\\cap N(y)}f(v)$, where $f(v)= 1$ if $v\\in N(x)\\cap N(y)$ and 0, otherwise  \n",
    "  \n",
    "    - 공통 이웃의 수 $=|N(x)\\cap N(y)| = CN(x,y)$  \n",
    "  \n",
    "    - 공통 이웃이 같은 커뮤니티에 속하는지의 여부 $=\\sum_{v\\in N(x)\\cap N(y)}f(v)$ \n",
    "  \n",
    "- [예1] $CCN(A,C)=CN(A,C)+\\sum_{v\\in\\{B,D\\}}f(v)=|\\{B,D\\}|+(f(B)+f(D))=2+(1+1)=4$  \n",
    "  \n",
    "- [예2] $CCN(F,I)=CN(F,I)+\\sum_{v\\in\\{G\\}}f(v)=|\\{G\\}|+f(G)=1+1=2$  \n",
    "  \n",
    "- `cn_soundarajan_hopcroft(G, ebunch=None, community='community')`  \n",
    "  \n",
    "- https://networkx.org/documentation/stable/reference/algorithms/generated/networkx.algorithms.link_prediction.cn_soundarajan_hopcroft.html"
   ]
  },
  {
   "cell_type": "code",
   "execution_count": 16,
   "metadata": {},
   "outputs": [
    {
     "name": "stdout",
     "output_type": "stream",
     "text": [
      "(C, A) -> 4\n",
      "(I, H) -> 2\n",
      "(I, F) -> 2\n",
      "(I, E) -> 2\n",
      "(H, F) -> 2\n",
      "(H, E) -> 2\n",
      "(C, E) -> 1\n",
      "(C, G) -> 1\n",
      "(F, B) -> 1\n",
      "(F, A) -> 1\n",
      "(F, D) -> 1\n",
      "(B, E) -> 1\n",
      "(G, A) -> 1\n",
      "(D, E) -> 1\n",
      "(I, C) -> 0\n",
      "(I, B) -> 0\n",
      "(I, D) -> 0\n",
      "(I, A) -> 0\n",
      "(C, H) -> 0\n",
      "(H, B) -> 0\n",
      "(H, A) -> 0\n",
      "(H, D) -> 0\n",
      "(B, G) -> 0\n",
      "(G, D) -> 0\n"
     ]
    }
   ],
   "source": [
    "cn_s_h = list(nx.cn_soundarajan_hopcroft(G))\n",
    "cn_s_h = sorted(cn_s_h, key=lambda x: x[2], reverse=True)\n",
    "for u,v,csh in cn_s_h:\n",
    "    print(f\"({u}, {v}) -> {csh}\")"
   ]
  },
  {
   "attachments": {},
   "cell_type": "markdown",
   "metadata": {},
   "source": [
    "### 2-2. `Community RA (Community Resource Allocation)`\n",
    "- \"the Resource Allocation Soundarajan-Hopcroft score of nodes $x$ and $y$\"\n",
    "    - $CRA(x,y):=\\sum_{v\\in N(x)\\cap N(y)}\\frac{f(v)}{|N(v)|}$, where $f(v)= 1$ if $v\\in N(x)\\cap N(y)$ and 0, otherwise  \n",
    "  \n",
    "    - 기존 RA 와 비슷하나, 분자에 1 대신 $f(v)$ -> 커뮤니티에 속했는지의 여부도 헤아림 \n",
    "  \n",
    "- [예1] $CRA(A,C)=\\sum_{v\\in\\{B,D\\}}\\frac{f(v)}{|N(v)|}=\\frac{f(B)}{|N(B)|}+\\frac{f(D)}{|N(D)|}=\\frac{1}{3}+\\frac{1}{3}=\\frac{2}{3}=0.666\\ldots$  \n",
    "  \n",
    "- [예2] $CRA(F,I)=\\sum_{v\\in\\{G\\}}\\frac{f(v)}{|N(v)|}=\\frac{1}{4}=0.25$  \n",
    "  \n",
    "- `ra_index_soundarajan_hopcroft(G, ebunch=None, community='community')`  \n",
    "  \n",
    "- https://networkx.org/documentation/stable/reference/algorithms/generated/networkx.algorithms.link_prediction.ra_index_soundarajan_hopcroft.html#networkx.algorithms.link_prediction.ra_index_soundarajan_hopcroft"
   ]
  },
  {
   "cell_type": "code",
   "execution_count": 17,
   "metadata": {},
   "outputs": [
    {
     "name": "stdout",
     "output_type": "stream",
     "text": [
      "(C, A) -> 0.6666666666666666\n",
      "(I, H) -> 0.25\n",
      "(I, F) -> 0.25\n",
      "(I, E) -> 0.25\n",
      "(H, F) -> 0.25\n",
      "(H, E) -> 0.25\n",
      "(I, C) -> 0\n",
      "(I, B) -> 0\n",
      "(I, D) -> 0\n",
      "(I, A) -> 0\n",
      "(C, E) -> 0\n",
      "(C, G) -> 0\n",
      "(C, H) -> 0\n",
      "(H, B) -> 0\n",
      "(H, A) -> 0\n",
      "(H, D) -> 0\n",
      "(F, B) -> 0\n",
      "(F, A) -> 0\n",
      "(F, D) -> 0\n",
      "(B, E) -> 0\n",
      "(B, G) -> 0\n",
      "(G, A) -> 0\n",
      "(G, D) -> 0\n",
      "(D, E) -> 0\n"
     ]
    }
   ],
   "source": [
    "ra_s_h = list(nx.ra_index_soundarajan_hopcroft(G))\n",
    "ra_s_h = sorted(ra_s_h, key=lambda x: x[2], reverse=True)\n",
    "for u,v,rsh in ra_s_h:\n",
    "    print(f\"({u}, {v}) -> {rsh}\")"
   ]
  }
 ],
 "metadata": {
  "kernelspec": {
   "display_name": "ss",
   "language": "python",
   "name": "python3"
  },
  "language_info": {
   "codemirror_mode": {
    "name": "ipython",
    "version": 3
   },
   "file_extension": ".py",
   "mimetype": "text/x-python",
   "name": "python",
   "nbconvert_exporter": "python",
   "pygments_lexer": "ipython3",
   "version": "3.9.16"
  },
  "orig_nbformat": 4
 },
 "nbformat": 4,
 "nbformat_minor": 2
}
